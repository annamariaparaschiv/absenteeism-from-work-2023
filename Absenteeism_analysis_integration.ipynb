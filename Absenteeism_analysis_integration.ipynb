{
 "cells": [
  {
   "cell_type": "code",
   "execution_count": null,
   "metadata": {},
   "outputs": [],
   "source": [
    "# importing the Absenteeism_module file\n",
    "from Absenteeism_module import *\n",
    "# creating an instance of the AbsenteeismModel class\n",
    "absenteeism_model = AbsenteeismModel('model','scaler')\n",
    "# calling the methods from the AbsenteeismModel class\n",
    "absenteeism_model.load_and_clean_data('Absenteeism_data.csv')\n",
    "df_new_obs = absenteeism_model.predicted_outputs()\n",
    "# importing the necessary libraries\n",
    "import pandas as pd\n",
    "import pyodbc\n",
    "# establishing the connection with SQL Server\n",
    "conn = pyodbc.connect(driver = 'SQL Server', server = '---', database = 'PredictedOutputs', trusted_connection = True)\n",
    "# creating a cursor\n",
    "cursor = conn.cursor()\n",
    "# sending the data from the df_new_obs dataframe to the PredictedOutputs table from SQL Server\n",
    "insert_query = 'INSERT INTO PredictedOutputs VALUES '\n",
    "\n",
    "for i in range(df_new_obs.shape[0]):\n",
    "    insert_query += '('\n",
    "\n",
    "    for j in range(df_new_obs.shape[1]):\n",
    "        insert_query += str(df_new_obs[df_new_obs.columns.values[j]][i]) + ', '\n",
    "    \n",
    "    insert_query = insert_query[:-2] + '), '\n",
    "\n",
    "insert_query = insert_query[:-2]\n",
    "print(insert_query)\n",
    "\n",
    "cursor.execute(insert_query)\n",
    "conn.commit()\n",
    "# closing the cursor and the connection\n",
    "cursor.close()\n",
    "conn.close()"
   ]
  }
 ],
 "metadata": {
  "kernelspec": {
   "display_name": "base",
   "language": "python",
   "name": "python3"
  },
  "language_info": {
   "name": "python",
   "version": "3.6.5"
  }
 },
 "nbformat": 4,
 "nbformat_minor": 2
}
